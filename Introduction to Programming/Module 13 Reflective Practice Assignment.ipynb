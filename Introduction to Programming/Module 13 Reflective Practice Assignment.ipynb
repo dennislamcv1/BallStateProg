{
 "cells": [
  {
   "cell_type": "markdown",
   "id": "650dab67",
   "metadata": {
    "tags": []
   },
   "source": [
    "# Module 13 Reflective Practice Assignment"
   ]
  },
  {
   "cell_type": "markdown",
   "id": "41ad7fbb",
   "metadata": {},
   "source": [
    "Spend between 20 and 30 minutes just experimenting with the python concepts that we have learned this week.  Get creative!  Try new things!  Fail and try again!  Suggested practice items: \n",
    "\n",
    "- Follow the steps shown in the video [Live Coding: visualizing word frequencies with Pandas and WordClouds](https://www.coursera.org/learn/ball-state-univeristy-introduction-to-programming/item/ZjVtI) to open a text file, remove stop words, and then report on the top 20 words and create a word cloud.  You may use the file `JulesVerne.txt` (provided in this lab), which contains the text from the book Twenty Thousand Leagues Under the Sea, from Project Gutenberg: https://www.gutenberg.org/cache/epub/164/pg164.txt  \n",
    "\n",
    "- You may want to choose a different book from Project Gutenberg (download the plain text file, then upload it to the Jupyter Lab environment), or the text from a news article, or other information source.  Then apply some of the tools that we have learned.  Can you detect the language that it was written in?  Can you translate it to another language? \n",
    "\n",
    "- Or, write a basic translator (which will be of limited accuracy) that prompts the user to enter a word in English, and then uses TextBlob to translate it to another language, say Spanish. \n",
    "\n",
    "Save this Jupyter Notebook, since you will submit it as part of this assignment. It is perfectly acceptable to describe trying to get something to work, and then failing to get it functioning as desired in the 20-30 min time block. This does not mean you'll get a bad grade for this assignment -- failing is a necessary part of learning, though none of us particularly enjoy it.  Sometimes what you'll try to accomplish is just too big of a task for a Reflective Practice session, and that is ok -- you will still have learned from the experience. "
   ]
  },
  {
   "cell_type": "markdown",
   "id": "74f546bf",
   "metadata": {
    "deletable": false,
    "editable": false,
    "nbgrader": {
     "cell_type": "markdown",
     "checksum": "60de21969ffb7a16842801ad4fbdc84d",
     "grade": false,
     "grade_id": "cell-ea9dc44fb1726c14",
     "locked": true,
     "schema_version": 3,
     "solution": false,
     "task": false
    },
    "tags": []
   },
   "source": [
    "### You can experiment with your code locally or in the notebook cells below."
   ]
  },
  {
   "cell_type": "code",
   "execution_count": null,
   "id": "6ab48c84",
   "metadata": {},
   "outputs": [],
   "source": []
  },
  {
   "cell_type": "code",
   "execution_count": null,
   "id": "83397ece",
   "metadata": {},
   "outputs": [],
   "source": []
  },
  {
   "cell_type": "code",
   "execution_count": null,
   "id": "671efb5c",
   "metadata": {},
   "outputs": [],
   "source": []
  },
  {
   "cell_type": "markdown",
   "id": "3c0224a2-829c-4dc6-871c-a25ce8c45d6d",
   "metadata": {
    "deletable": false,
    "editable": false,
    "nbgrader": {
     "cell_type": "markdown",
     "checksum": "ebcbcb321c1d431b6355df6dc293d48c",
     "grade": false,
     "grade_id": "cell-6ab7b33550afca91",
     "locked": true,
     "schema_version": 3,
     "solution": false,
     "task": false
    },
    "tags": []
   },
   "source": [
    "#### Please place all code experimentation above this comment. ####"
   ]
  },
  {
   "cell_type": "markdown",
   "id": "f8ae9eda",
   "metadata": {
    "deletable": false,
    "editable": false,
    "nbgrader": {
     "cell_type": "markdown",
     "checksum": "4a72ebdd0d13a8c01f01b11e913e4d0d",
     "grade": false,
     "grade_id": "cell-7ccb79a53f7c89b2",
     "locked": true,
     "schema_version": 3,
     "solution": false,
     "task": false
    }
   },
   "source": [
    "# Module 13 Reflection Submission"
   ]
  },
  {
   "cell_type": "markdown",
   "id": "de17dff5",
   "metadata": {
    "deletable": false,
    "editable": false,
    "nbgrader": {
     "cell_type": "markdown",
     "checksum": "31393ebea6837e960f92aa3c6c3f3a4f",
     "grade": false,
     "grade_id": "cell-227ea0fa9fdb6130",
     "locked": true,
     "schema_version": 3,
     "solution": false,
     "task": false
    },
    "tags": []
   },
   "source": [
    "Reflect on what you have learned below.  Write a short (4-8 sentence summary) reflecting on what you figured out through this practice session. "
   ]
  },
  {
   "cell_type": "markdown",
   "id": "90201994",
   "metadata": {
    "deletable": false,
    "editable": false,
    "nbgrader": {
     "cell_type": "markdown",
     "checksum": "fdb31303a2c3d7857e128fce9c757af1",
     "grade": false,
     "grade_id": "cell-574144c829d666e1",
     "locked": true,
     "schema_version": 3,
     "solution": false,
     "task": false
    },
    "tags": []
   },
   "source": [
    "#### Enter Your Reflection Under this Cell ####"
   ]
  },
  {
   "cell_type": "markdown",
   "id": "6a897653",
   "metadata": {
    "deletable": false,
    "nbgrader": {
     "cell_type": "markdown",
     "checksum": "71ddbbf3ac3bfff3a76911e0cb382e2b",
     "grade": true,
     "grade_id": "cell-498c413593a65abb",
     "locked": false,
     "points": 0,
     "schema_version": 3,
     "solution": true,
     "task": false
    },
    "tags": []
   },
   "source": [
    "YOUR ANSWER HERE"
   ]
  },
  {
   "cell_type": "markdown",
   "id": "f97d7204",
   "metadata": {
    "deletable": false,
    "editable": false,
    "nbgrader": {
     "cell_type": "markdown",
     "checksum": "a1fbf885ac8c6745e7bf96ebd28969b6",
     "grade": false,
     "grade_id": "cell-de0a0a081f87a48d",
     "locked": true,
     "schema_version": 3,
     "solution": false,
     "task": false
    },
    "tags": []
   },
   "source": [
    "#### Enter Your Reflection Above this Cell ####"
   ]
  },
  {
   "cell_type": "markdown",
   "id": "a1959248-4f78-439d-bdb0-9b543e2ddd91",
   "metadata": {},
   "source": [
    "# Submitting Your Work"
   ]
  },
  {
   "cell_type": "markdown",
   "id": "838125a5-f7e1-496f-9747-dcc73d9a64cd",
   "metadata": {},
   "source": [
    "This week, you'll have your Reflection Activity graded by your Peers in the following Peer Review item.  \n",
    "- When you've completed your reflection this week, save this lab. \n",
    "- Then return to the assignment page and follow the steps under \"Submitting Your Work for Peer Peview\" to complete this assignment in full."
   ]
  }
 ],
 "metadata": {
  "kernelspec": {
   "display_name": "Python 3 (ipykernel)",
   "language": "python",
   "name": "python3"
  },
  "language_info": {
   "codemirror_mode": {
    "name": "ipython",
    "version": 3
   },
   "file_extension": ".py",
   "mimetype": "text/x-python",
   "name": "python",
   "nbconvert_exporter": "python",
   "pygments_lexer": "ipython3",
   "version": "3.11.4"
  }
 },
 "nbformat": 4,
 "nbformat_minor": 5
}

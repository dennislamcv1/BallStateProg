{
 "cells": [
  {
   "cell_type": "markdown",
   "id": "9923e9c4",
   "metadata": {
    "deletable": false,
    "editable": false,
    "nbgrader": {
     "cell_type": "markdown",
     "checksum": "62aaad801ca10ad03ed572dbd2a12471",
     "grade": false,
     "grade_id": "cell-af9cc8d837aebce9",
     "locked": true,
     "schema_version": 3,
     "solution": false,
     "task": false
    },
    "tags": []
   },
   "source": [
    "# Module 11 Reflective Practice Assignment "
   ]
  },
  {
   "cell_type": "markdown",
   "id": "64845279",
   "metadata": {
    "deletable": false,
    "editable": false,
    "nbgrader": {
     "cell_type": "markdown",
     "checksum": "692678f9e2075dd2680f48329b25455b",
     "grade": false,
     "grade_id": "cell-ff5eef82ae0a7de3",
     "locked": true,
     "schema_version": 3,
     "solution": false,
     "task": false
    },
    "tags": []
   },
   "source": [
    "Spend between 20 and 30 minutes just experimenting with the python concepts that we have learned this week.  Get creative!  Try new things! \n",
    "Fail and try again!  Suggested practice items:\n",
    "\n",
    "- Visit regex101.com. On the left side, under \"Flavor\", choose \"Python\".  In the test string area, insert a string similar to this \"Jennifer Coy jennifer.coy@bsu.edu Muncie, IN 47306\".  Then, work to generate your own regex expression that will match your entire email address from that string.  Then, transfer that regex expression to your python program, and test it on different input strings. \n",
    "\n",
    "- Visit regex101.com again.  Use a different test string, that is longer, and has something interesting embedded in it (say, an address that contains \"IN,\" -- find the pattern to match the city and zip code that surrounds the \"IN,\" string. \n",
    "\n",
    "- Use the provided `cswebsite.txt` file (provided in this lab) to search for other data.  Can you capture the full address for the facebook link?  Instagram? Tiktok?  What else can you extract from the page?  Can you extract all the phone numbers? \n",
    "\n",
    "Once you're done, save this Jupyter Notebook - you will submit it as part of this assignment. It is perfectly acceptable to describe trying to get something to work, and then failing to get it functioning as desired in the 20-30 min time block.  This does not mean you'll get a bad grade for this assignment -- failing is a necessary part of learning, though none of us particularly enjoy it.  Sometimes what you'll try to accomplish is just too big of a task for a Reflective Practice session, and that is ok -- you will still have learned from the experience."
   ]
  },
  {
   "cell_type": "markdown",
   "id": "d4d46bc2",
   "metadata": {
    "deletable": false,
    "editable": false,
    "nbgrader": {
     "cell_type": "markdown",
     "checksum": "57f1897b1bab0711d9df0267ffd90ee9",
     "grade": false,
     "grade_id": "cell-acf62cab23157c1e",
     "locked": true,
     "schema_version": 3,
     "solution": false,
     "task": false
    },
    "tags": []
   },
   "source": [
    "## You can experiment with your code in the notebook cells below."
   ]
  },
  {
   "cell_type": "code",
   "execution_count": null,
   "id": "df57ecf8-0cc2-42ab-a548-0d59064158af",
   "metadata": {},
   "outputs": [],
   "source": []
  },
  {
   "cell_type": "code",
   "execution_count": null,
   "id": "30fbdc72-92d2-4bad-ba56-9d0148183195",
   "metadata": {},
   "outputs": [],
   "source": []
  },
  {
   "cell_type": "code",
   "execution_count": null,
   "id": "eae3e2a2-9c1c-4877-8415-20c8d3e7d7d6",
   "metadata": {},
   "outputs": [],
   "source": []
  },
  {
   "cell_type": "markdown",
   "id": "746122fd-0b59-415d-b795-d0eae409c938",
   "metadata": {},
   "source": []
  },
  {
   "cell_type": "raw",
   "id": "b2616172-c5dc-4fc4-843c-a18cd95a16c7",
   "metadata": {},
   "source": []
  },
  {
   "cell_type": "markdown",
   "id": "94c9aaa3-9cfe-4d6a-a57a-b69ce3dd9736",
   "metadata": {
    "deletable": false,
    "editable": false,
    "nbgrader": {
     "cell_type": "markdown",
     "checksum": "e83c63bcd9536bdf74e3878dd15e7c44",
     "grade": false,
     "grade_id": "cell-f95893fa698683c6",
     "locked": true,
     "schema_version": 3,
     "solution": false,
     "task": false
    },
    "tags": []
   },
   "source": [
    "#### Please place all code experimentation above this comment. ####"
   ]
  },
  {
   "cell_type": "markdown",
   "id": "778141b4",
   "metadata": {
    "deletable": false,
    "editable": false,
    "nbgrader": {
     "cell_type": "markdown",
     "checksum": "252137dbfca750bdb33a09806e09617a",
     "grade": false,
     "grade_id": "cell-7ccb79a53f7c89b2",
     "locked": true,
     "schema_version": 3,
     "solution": false,
     "task": false
    }
   },
   "source": [
    "# Module 11 Reflection Submission"
   ]
  },
  {
   "cell_type": "markdown",
   "id": "75e6ae4b",
   "metadata": {
    "deletable": false,
    "editable": false,
    "nbgrader": {
     "cell_type": "markdown",
     "checksum": "31393ebea6837e960f92aa3c6c3f3a4f",
     "grade": false,
     "grade_id": "cell-227ea0fa9fdb6130",
     "locked": true,
     "schema_version": 3,
     "solution": false,
     "task": false
    },
    "tags": []
   },
   "source": [
    "Reflect on what you have learned below.  Write a short (4-8 sentence summary) reflecting on what you figured out through this practice session. "
   ]
  },
  {
   "cell_type": "markdown",
   "id": "e6f89290",
   "metadata": {
    "deletable": false,
    "editable": false,
    "nbgrader": {
     "cell_type": "markdown",
     "checksum": "fdb31303a2c3d7857e128fce9c757af1",
     "grade": false,
     "grade_id": "cell-574144c829d666e1",
     "locked": true,
     "schema_version": 3,
     "solution": false,
     "task": false
    },
    "tags": []
   },
   "source": [
    "#### Enter Your Reflection Under this Cell ####"
   ]
  },
  {
   "cell_type": "markdown",
   "id": "151867f3",
   "metadata": {
    "deletable": false,
    "nbgrader": {
     "cell_type": "markdown",
     "checksum": "71ddbbf3ac3bfff3a76911e0cb382e2b",
     "grade": true,
     "grade_id": "cell-498c413593a65abb",
     "locked": false,
     "points": 0,
     "schema_version": 3,
     "solution": true,
     "task": false
    },
    "tags": []
   },
   "source": [
    "YOUR ANSWER HERE"
   ]
  },
  {
   "cell_type": "markdown",
   "id": "d6d56306",
   "metadata": {
    "deletable": false,
    "editable": false,
    "nbgrader": {
     "cell_type": "markdown",
     "checksum": "a1fbf885ac8c6745e7bf96ebd28969b6",
     "grade": false,
     "grade_id": "cell-de0a0a081f87a48d",
     "locked": true,
     "schema_version": 3,
     "solution": false,
     "task": false
    },
    "tags": []
   },
   "source": [
    "#### Enter Your Reflection Above this Cell ####"
   ]
  }
 ],
 "metadata": {
  "kernelspec": {
   "display_name": "Python 3 (ipykernel)",
   "language": "python",
   "name": "python3"
  },
  "language_info": {
   "codemirror_mode": {
    "name": "ipython",
    "version": 3
   },
   "file_extension": ".py",
   "mimetype": "text/x-python",
   "name": "python",
   "nbconvert_exporter": "python",
   "pygments_lexer": "ipython3",
   "version": "3.11.4"
  }
 },
 "nbformat": 4,
 "nbformat_minor": 5
}

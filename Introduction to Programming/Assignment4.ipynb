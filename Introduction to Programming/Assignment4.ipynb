{
 "cells": [
  {
   "cell_type": "markdown",
   "metadata": {},
   "source": [
    "# Programming Assignment 4"
   ]
  },
  {
   "cell_type": "markdown",
   "metadata": {},
   "source": [
    "## Objectives "
   ]
  },
  {
   "cell_type": "markdown",
   "metadata": {},
   "source": [
    "The purpose of this assignment is to: \n",
    "\n",
    "- practice creating functions by creating two functions and integrating them into a program"
   ]
  },
  {
   "cell_type": "markdown",
   "metadata": {
    "tags": []
   },
   "source": [
    "## Assignment Instructions"
   ]
  },
  {
   "cell_type": "markdown",
   "metadata": {},
   "source": [
    "Write two functions, described below.  Be sure to test your code against the test cases!  Submit your code once your tests are passing.  (It is possible to earn partial credit for passing some of the tests, but not passing others.) "
   ]
  },
  {
   "cell_type": "markdown",
   "metadata": {
    "tags": []
   },
   "source": [
    "## Let's start coding!"
   ]
  },
  {
   "cell_type": "markdown",
   "metadata": {
    "tags": []
   },
   "source": [
    "### Using this Notebook"
   ]
  },
  {
   "cell_type": "markdown",
   "metadata": {},
   "source": [
    "Notice that some of the cells are not able to be edited – they are just meant to be run to test your code, and perform the auto grading. You should begin at the top and execute each code cell, adding your code when you see # YOUR CODE HERE. If you have written the functions correctly, you should see no errors.\n",
    "\n",
    "When you execute the TEST CASES cell, what you want to see is no output. You may want to intentionally make the function give a wrong result, so that you can see what the error message looks like – and then fix your function. Once you execute the TEST CASES cell, and get no output, then your function is most likely correct!"
   ]
  },
  {
   "cell_type": "markdown",
   "metadata": {},
   "source": [
    "PLEASE BE SURE TO EXECUTE THE FOLLOWING CELL, TO INSTALL THE LIBRARIES NEEDED FOR THIS LAB.  \n",
    "Note: You will encounter errors if you skip this step."
   ]
  },
  {
   "cell_type": "code",
   "execution_count": 1,
   "metadata": {
    "tags": []
   },
   "outputs": [],
   "source": [
    "# Install Necessary Dependencies\n",
    "import nose, inspect\n",
    "from nose.tools import assert_equal"
   ]
  },
  {
   "cell_type": "markdown",
   "metadata": {
    "tags": []
   },
   "source": [
    "### Function 1: Prompt the user to select from a list of menu options"
   ]
  },
  {
   "cell_type": "markdown",
   "metadata": {
    "tags": []
   },
   "source": [
    "Define a function that will take no arguments, but will return an integer that represents the option selected (option 1, 2, 3, or 4) or return a 0 if there was an error.  \n",
    "\n",
    "The \"inside\" of this function should do several things, and use one input() statement, and a longer if-elif-else statement.\n",
    "\n",
    "First, print a list of menu options that the user can select from. Use these 4 options, with the **exact** text below:\n",
    "\n",
    "1. See an uplifting message\n",
    "2. See a programming tip\n",
    "3. Watch me count\n",
    "4. Quit this program.  \n",
    "\n",
    "Then, ask the user to enter a number to indicate their selection.\n",
    "\n",
    "Then, use an if statement to see if they typed a 1.  If so, **return the integer 1**.  \n",
    "\n",
    "Similarly, use elif statements to **return 2, 3, and 4 as integers** for those options selected.\n",
    "\n",
    "Finally, include an else statement that tells them that they entered an invalid number.  **Return a 0 in that case.**"
   ]
  },
  {
   "cell_type": "markdown",
   "metadata": {
    "jp-MarkdownHeadingCollapsed": true,
    "tags": []
   },
   "source": [
    "#### *Hint:  you can compare strings, like this:*"
   ]
  },
  {
   "cell_type": "markdown",
   "metadata": {
    "tags": []
   },
   "source": [
    "```python\n",
    "if user_input == '1': \n",
    "    # they entered a 1, great!\n",
    "```\n",
    "\n",
    "In this way, you avoid the program crashing if they type \"asdf\" and then you try to convert that to an integer."
   ]
  },
  {
   "cell_type": "markdown",
   "metadata": {
    "tags": []
   },
   "source": [
    "####"
   ]
  },
  {
   "cell_type": "code",
   "execution_count": 2,
   "metadata": {
    "deletable": false,
    "nbgrader": {
     "cell_type": "code",
     "checksum": "6863275d3febc9eda3c3732a64c62fe8",
     "grade": false,
     "grade_id": "cell-fb4aeb0d1c5c8ec4",
     "locked": false,
     "schema_version": 3,
     "solution": true,
     "task": false
    },
    "tags": []
   },
   "outputs": [],
   "source": [
    "def menu():\n",
    "    ''' print a list of menu options, and return an integer representing the user's choice '''\n",
    "    print(\"1. See an uplifting message\")\n",
    "    print(\"2. See a programming tip\")\n",
    "    print(\"3. Watch me count\")\n",
    "    print(\"4. Quit this program.\")\n",
    "    \n",
    "    user_input = input(\"Enter a number to indicate your selection: \")\n",
    "    \n",
    "    if user_input == '1':\n",
    "        return 1\n",
    "    elif user_input == '2':\n",
    "        return 2\n",
    "    elif user_input == '3':\n",
    "        return 3\n",
    "    elif user_input == '4':\n",
    "        return 4\n",
    "    else:\n",
    "        print(\"Invalid number. Please enter a number between 1 and 4.\")\n",
    "        return 0\n",
    "\n",
    "    raise NotImplementedError # delete this line after you have written your function"
   ]
  },
  {
   "cell_type": "markdown",
   "metadata": {
    "tags": []
   },
   "source": [
    "The cell below allows you to test your function – run it multiple times, trying all sorts of different options, and see that the right integer is returned for each case."
   ]
  },
  {
   "cell_type": "code",
   "execution_count": 3,
   "metadata": {
    "tags": []
   },
   "outputs": [
    {
     "name": "stdout",
     "output_type": "stream",
     "text": [
      "1. See an uplifting message\n",
      "2. See a programming tip\n",
      "3. Watch me count\n",
      "4. Quit this program.\n"
     ]
    },
    {
     "name": "stdin",
     "output_type": "stream",
     "text": [
      "Enter a number to indicate your selection:  1\n"
     ]
    },
    {
     "name": "stdout",
     "output_type": "stream",
     "text": [
      "The menu function returned a 1 . Does that seem correct?\n"
     ]
    }
   ],
   "source": [
    "# Manual testing of menu()\n",
    "this_result = menu()\n",
    "print('The menu function returned a', this_result, '. Does that seem correct?')"
   ]
  },
  {
   "cell_type": "markdown",
   "metadata": {},
   "source": [
    "Now, run the unit tests that the autograder uses, and see how your code works!"
   ]
  },
  {
   "cell_type": "code",
   "execution_count": 4,
   "metadata": {
    "deletable": false,
    "editable": false,
    "nbgrader": {
     "cell_type": "code",
     "checksum": "7657933b14a6d86011a613915b1582c3",
     "grade": true,
     "grade_id": "cell-b72fe6462a70755e",
     "locked": true,
     "points": 5,
     "schema_version": 3,
     "solution": false,
     "task": false
    },
    "tags": []
   },
   "outputs": [],
   "source": [
    "# GRADED TEST CASE 1: This cell should not deliver any errors when this cell is run\n",
    "# Check - for loop implementation\n",
    "if_statement_found = False\n",
    "option_input_found = False\n",
    "see_uplifiting_message_found = False\n",
    "see_programming_tip_found = False\n",
    "watch_me_count_found = False\n",
    "quit_this_program_found = False\n",
    "\n",
    "menu_lines = inspect.getsource(menu)\n",
    "code_lines = menu_lines.splitlines()\n",
    "for line in code_lines:\n",
    "    if \"if\" in line:\n",
    "        if_statement_found = True\n",
    "    if \"input\" in line:\n",
    "        option_input_found = True\n",
    "    if \"see an uplifting message\" in line.lower():\n",
    "        see_uplifiting_message_found = True\n",
    "    if \"see a programming tip\" in line.lower():\n",
    "        see_programming_tip_found = True\n",
    "    if \"watch me count\" in line.lower():\n",
    "        watch_me_count_found = True\n",
    "    if \"quit this program\" in line.lower():\n",
    "        quit_this_program_found = True\n",
    "        \n",
    "assert if_statement_found == True, \"Please verify you've implemented if logic in your function.\"\n",
    "assert option_input_found == True, \"Please verify if you've asked the user for their input.\"\n",
    "assert see_uplifiting_message_found == True, \"Please verify that you have implemented all the menu options, using the EXACT test requested, for example ‘see an uplifting message’ should appear in your menu output\"\n",
    "assert see_programming_tip_found == True, \"Please verify that you have implemented all the menu options, using the EXACT test requested, for example ‘see a programming tip’ should appear in your menu output\"\n",
    "assert watch_me_count_found == True, \"Please verify that you have implemented all the menu options, using the EXACT test requested, for example ‘watch me count’ should appear in your menu output\"\n",
    "assert quit_this_program_found == True, \"Please verify that you have implemented all the menu options, using the EXACT test requested, for example ‘quit this program’ should appear in your menu output\""
   ]
  },
  {
   "cell_type": "markdown",
   "metadata": {
    "tags": []
   },
   "source": [
    "### Function 2: Count up to a number"
   ]
  },
  {
   "cell_type": "markdown",
   "metadata": {},
   "source": [
    "Write a function with one argument that is an integer.  That function should use a for loop to print out the numbers from 1 to that number (inclusive)."
   ]
  },
  {
   "cell_type": "code",
   "execution_count": 5,
   "metadata": {
    "deletable": false,
    "nbgrader": {
     "cell_type": "code",
     "checksum": "e98f526b2770f6727addc186c5c38ff4",
     "grade": false,
     "grade_id": "cell-95f796f66fb927cc",
     "locked": false,
     "schema_version": 3,
     "solution": true,
     "task": false
    },
    "tags": []
   },
   "outputs": [],
   "source": [
    "def count_up(num):\n",
    "    ''' count from 1 to that number, inclusive '''\n",
    "    for i in range(1, num + 1):\n",
    "        print(i)"
   ]
  },
  {
   "cell_type": "markdown",
   "metadata": {},
   "source": [
    "The cell below allows you to test your function – run it multiple times, chaning the value stored in the variable test_value, and see if the function counts correctly for each case"
   ]
  },
  {
   "cell_type": "code",
   "execution_count": 6,
   "metadata": {
    "tags": []
   },
   "outputs": [
    {
     "name": "stdout",
     "output_type": "stream",
     "text": [
      "1\n",
      "2\n",
      "3\n",
      "4\n",
      "5\n",
      "Did your function print the numbers starting a 1 and ending by printing a 5 ?\n"
     ]
    }
   ],
   "source": [
    "# Manual testing of count_up()\n",
    "test_value = 5\n",
    "count_up(test_value)\n",
    "print('Did your function print the numbers starting a 1 and ending by printing a', test_value, '?')"
   ]
  },
  {
   "cell_type": "markdown",
   "metadata": {},
   "source": [
    "Now, run the unit tests that the autograder uses, and see how your code works!"
   ]
  },
  {
   "cell_type": "code",
   "execution_count": 7,
   "metadata": {
    "deletable": false,
    "editable": false,
    "nbgrader": {
     "cell_type": "code",
     "checksum": "789bba0dfc90af563a4b95ef50addc36",
     "grade": true,
     "grade_id": "cell-a296d0b0289e0378",
     "locked": true,
     "points": 5,
     "schema_version": 3,
     "solution": false,
     "task": false
    },
    "tags": []
   },
   "outputs": [
    {
     "name": "stdout",
     "output_type": "stream",
     "text": [
      "1\n",
      "2\n",
      "3\n",
      "4\n",
      "5\n"
     ]
    }
   ],
   "source": [
    "# GRADED TEST CASE 2: This cell should not deliver any errors when this cell is run\n",
    "\n",
    "# Check - for loop implementation\n",
    "for_loop_found = False\n",
    "\n",
    "count_up_lines = inspect.getsource(count_up)\n",
    "code_lines = count_up_lines.splitlines()\n",
    "for line in code_lines:\n",
    "    if \"for\" in line and \"in\" in line and \":\" in line:\n",
    "        for_loop_found = True\n",
    "\n",
    "assert for_loop_found == True, \"Please verify you've implemented a for loop in your count_up function\"\n",
    "assert count_up(5) == None, \"Check your count_up function with number 5.\""
   ]
  },
  {
   "cell_type": "markdown",
   "metadata": {
    "tags": []
   },
   "source": [
    "### Main Program: *Putting it all together*"
   ]
  },
  {
   "cell_type": "markdown",
   "metadata": {},
   "source": [
    "Now pull these two functions together into a whole program.  Your code should use your first function to present the user with a menu of options.  \n",
    "If your first function returns a 1, your program will print an uplifting message (choose a quote that you find encouraging).  \n",
    "If they instead pressed a 2, your program will print a programming tip (choose something that you have learned in this class).  \n",
    "If they pressed 3, your program will then ask them for a number, then count up to that number, starting at 1 (using the function that you wrote).  \n",
    "If they press 4, the program will exit.   \n",
    "\n",
    "In this case, you do not need to continue looping – the user would need to run the program another time in order to choose a different option. \n",
    "\n",
    "When you run your program, it should produce output similar to what is shown below.  It does not need to be identical, but should be functionally the same. "
   ]
  },
  {
   "cell_type": "code",
   "execution_count": 8,
   "metadata": {
    "tags": []
   },
   "outputs": [
    {
     "name": "stdout",
     "output_type": "stream",
     "text": [
      "1. See an uplifting message\n",
      "2. See a programming tip\n",
      "3. Watch me count\n",
      "4. Quit this program.\n"
     ]
    },
    {
     "name": "stdin",
     "output_type": "stream",
     "text": [
      "Enter a number to indicate your selection:  4\n"
     ]
    }
   ],
   "source": [
    "def main():\n",
    "    # to start off, prompt the user to choose an option by using your menu() function\n",
    "    request = menu()\n",
    "\n",
    "    # now, use an if/elif/else statement to handle each of the possible options\n",
    "    # ADD YOUR CODE HERE\n",
    "    \n",
    "\n",
    "# This next line lets you run your code by calling the main() function.  Test your work! Note that this section is not being graded, because using the autograder here would force us to add many constraints and reduce the freedom that you have to solve the problem\n",
    "main()"
   ]
  }
 ],
 "metadata": {
  "kernelspec": {
   "display_name": "Python 3 (ipykernel)",
   "language": "python",
   "name": "python3"
  },
  "language_info": {
   "codemirror_mode": {
    "name": "ipython",
    "version": 3
   },
   "file_extension": ".py",
   "mimetype": "text/x-python",
   "name": "python",
   "nbconvert_exporter": "python",
   "pygments_lexer": "ipython3",
   "version": "3.11.4"
  }
 },
 "nbformat": 4,
 "nbformat_minor": 4
}

{
 "cells": [
  {
   "cell_type": "markdown",
   "id": "9923e9c4",
   "metadata": {
    "deletable": false,
    "editable": false,
    "nbgrader": {
     "cell_type": "markdown",
     "checksum": "2b11cd0a10675fd71a6f78299d2d480f",
     "grade": false,
     "grade_id": "cell-af9cc8d837aebce9",
     "locked": true,
     "schema_version": 3,
     "solution": false,
     "task": false
    },
    "tags": []
   },
   "source": [
    "# Module 4 Reflective Practice Assignment "
   ]
  },
  {
   "cell_type": "markdown",
   "id": "64845279",
   "metadata": {
    "deletable": false,
    "editable": false,
    "nbgrader": {
     "cell_type": "markdown",
     "checksum": "6e8aab1bfb1f600c3b56908af033a4ed",
     "grade": false,
     "grade_id": "cell-ff5eef82ae0a7de3",
     "locked": true,
     "schema_version": 3,
     "solution": false,
     "task": false
    },
    "tags": []
   },
   "source": [
    "Spend between 20 and 30 minutes just experimenting with the python concepts that we have learned this week.  Get creative!  Try new things! \n",
    "Fail and try again!  Suggested practice items:\n",
    "\n",
    "- Create two functions -- one that is called print_me() and takes some text as an argument, then prints it.  Then, create another function that is called repeat_me() that takes a number as an argument, then has a for loop to call the print_me() function that many times.  If you're up to a challenge, add an option to allow the user to type in the text, and also the number...or if you want a farther stretch goal, allow them repeat the program, until they decide to type \"quit\". \n",
    "\n",
    "- Pull in the math module, but rename it as \"mathisfun\" and then use the pow(), ceil(), and floor() functions \n",
    "\n",
    "- Play around with the statistics module's functions pvariance() and pstdev().\n",
    "\n",
    "Once you're done, save this Jupyter Notebook - you will submit it as part of this assignment. It is perfectly acceptable to describe trying to get something to work, and then failing to get it functioning as desired in the 20-30 min time block.  This does not mean you'll get a bad grade for this assignment -- failing is a necessary part of learning, though none of us particularly enjoy it.  Sometimes what you'll try to accomplish is just too big of a task for a Reflective Practice session, and that is ok -- you will still have learned from the experience."
   ]
  },
  {
   "cell_type": "markdown",
   "id": "d4d46bc2",
   "metadata": {
    "deletable": false,
    "editable": false,
    "nbgrader": {
     "cell_type": "markdown",
     "checksum": "57f1897b1bab0711d9df0267ffd90ee9",
     "grade": false,
     "grade_id": "cell-acf62cab23157c1e",
     "locked": true,
     "schema_version": 3,
     "solution": false,
     "task": false
    },
    "tags": []
   },
   "source": [
    "## You can experiment with your code in the notebook cells below."
   ]
  },
  {
   "cell_type": "code",
   "execution_count": 1,
   "id": "df57ecf8-0cc2-42ab-a548-0d59064158af",
   "metadata": {
    "tags": []
   },
   "outputs": [],
   "source": [
    "def print_me(text):\n",
    "    print(text)"
   ]
  },
  {
   "cell_type": "code",
   "execution_count": 2,
   "id": "30fbdc72-92d2-4bad-ba56-9d0148183195",
   "metadata": {
    "tags": []
   },
   "outputs": [],
   "source": [
    "def repeat_me(num):\n",
    "    text = input(\"Enter the text you want to repeat: \")\n",
    "    for _ in range(num):\n",
    "        print_me(text)"
   ]
  },
  {
   "cell_type": "code",
   "execution_count": 3,
   "id": "eae3e2a2-9c1c-4877-8415-20c8d3e7d7d6",
   "metadata": {
    "tags": []
   },
   "outputs": [
    {
     "name": "stdin",
     "output_type": "stream",
     "text": [
      "Enter a number of times to repeat:  3\n",
      "Enter the text you want to repeat:  xoxo\n"
     ]
    },
    {
     "name": "stdout",
     "output_type": "stream",
     "text": [
      "xoxo\n",
      "xoxo\n",
      "xoxo\n"
     ]
    },
    {
     "name": "stdin",
     "output_type": "stream",
     "text": [
      "Do you want to repeat the program? (Type 'quit' to exit, any other key to continue):  quit\n"
     ]
    }
   ],
   "source": [
    "import math as mathisfun\n",
    "import statistics\n",
    "\n",
    "def print_me(text):\n",
    "    print(text)\n",
    "\n",
    "def repeat_me(num):\n",
    "    text = input(\"Enter the text you want to repeat: \")\n",
    "    for _ in range(num):\n",
    "        print_me(text)\n",
    "\n",
    "def main():\n",
    "    while True:\n",
    "        try:\n",
    "            num = int(input(\"Enter a number of times to repeat: \"))\n",
    "            repeat_me(num)\n",
    "        except ValueError:\n",
    "            print(\"Please enter a valid number.\")\n",
    "        \n",
    "        repeat_program = input(\"Do you want to repeat the program? (Type 'quit' to exit, any other key to continue): \")\n",
    "        if repeat_program.lower() == 'quit':\n",
    "            break\n",
    "\n",
    "if __name__ == \"__main__\":\n",
    "    main()"
   ]
  },
  {
   "cell_type": "code",
   "execution_count": 4,
   "id": "79f43231-8a00-4d0f-9f60-432edff5cbe0",
   "metadata": {
    "tags": []
   },
   "outputs": [
    {
     "name": "stdout",
     "output_type": "stream",
     "text": [
      "Power of 2 to the 3: 8.0\n",
      "Ceil of 4.3: 5\n",
      "Floor of 4.7: 4\n"
     ]
    }
   ],
   "source": [
    "# Using mathisfun module\n",
    "base = 2\n",
    "exponent = 3\n",
    "result_pow = mathisfun.pow(base, exponent)\n",
    "result_ceil = mathisfun.ceil(4.3)\n",
    "result_floor = mathisfun.floor(4.7)\n",
    "\n",
    "print(f\"Power of {base} to the {exponent}: {result_pow}\")\n",
    "print(f\"Ceil of 4.3: {result_ceil}\")\n",
    "print(f\"Floor of 4.7: {result_floor}\")"
   ]
  },
  {
   "cell_type": "code",
   "execution_count": 5,
   "id": "f2c38250-6d5b-479c-8411-39e8b5ed3678",
   "metadata": {
    "tags": []
   },
   "outputs": [
    {
     "name": "stdout",
     "output_type": "stream",
     "text": [
      "Population Variance: 2\n",
      "Population Standard Deviation: 1.4142135623730951\n"
     ]
    }
   ],
   "source": [
    "# Using statistics module\n",
    "data = [1, 2, 3, 4, 5]\n",
    "variance = statistics.pvariance(data)\n",
    "stdev = statistics.pstdev(data)\n",
    "\n",
    "print(f\"Population Variance: {variance}\")\n",
    "print(f\"Population Standard Deviation: {stdev}\")"
   ]
  },
  {
   "cell_type": "markdown",
   "id": "94c9aaa3-9cfe-4d6a-a57a-b69ce3dd9736",
   "metadata": {
    "deletable": false,
    "editable": false,
    "nbgrader": {
     "cell_type": "markdown",
     "checksum": "e83c63bcd9536bdf74e3878dd15e7c44",
     "grade": false,
     "grade_id": "cell-f95893fa698683c6",
     "locked": true,
     "schema_version": 3,
     "solution": false,
     "task": false
    },
    "tags": []
   },
   "source": [
    "#### Please place all code experimentation above this comment. ####"
   ]
  },
  {
   "cell_type": "markdown",
   "id": "778141b4",
   "metadata": {
    "deletable": false,
    "editable": false,
    "nbgrader": {
     "cell_type": "markdown",
     "checksum": "229ab4483dcd89a2d8d7bb0a26d80910",
     "grade": false,
     "grade_id": "cell-7ccb79a53f7c89b2",
     "locked": true,
     "schema_version": 3,
     "solution": false,
     "task": false
    }
   },
   "source": [
    "# Module 4 Reflection Submission"
   ]
  },
  {
   "cell_type": "markdown",
   "id": "75e6ae4b",
   "metadata": {
    "deletable": false,
    "editable": false,
    "nbgrader": {
     "cell_type": "markdown",
     "checksum": "31393ebea6837e960f92aa3c6c3f3a4f",
     "grade": false,
     "grade_id": "cell-227ea0fa9fdb6130",
     "locked": true,
     "schema_version": 3,
     "solution": false,
     "task": false
    },
    "tags": []
   },
   "source": [
    "Reflect on what you have learned below.  Write a short (4-8 sentence summary) reflecting on what you figured out through this practice session. "
   ]
  },
  {
   "cell_type": "markdown",
   "id": "e6f89290",
   "metadata": {
    "deletable": false,
    "editable": false,
    "nbgrader": {
     "cell_type": "markdown",
     "checksum": "fdb31303a2c3d7857e128fce9c757af1",
     "grade": false,
     "grade_id": "cell-574144c829d666e1",
     "locked": true,
     "schema_version": 3,
     "solution": false,
     "task": false
    },
    "tags": []
   },
   "source": [
    "#### Enter Your Reflection Under this Cell ####"
   ]
  },
  {
   "cell_type": "markdown",
   "id": "151867f3",
   "metadata": {
    "deletable": false,
    "nbgrader": {
     "cell_type": "markdown",
     "checksum": "71ddbbf3ac3bfff3a76911e0cb382e2b",
     "grade": true,
     "grade_id": "cell-498c413593a65abb",
     "locked": false,
     "points": 0,
     "schema_version": 3,
     "solution": true,
     "task": false
    },
    "tags": []
   },
   "source": [
    "Python functions are blocks of reusable code designed to perform a specific task. They help in organizing code, improving readability, and promoting code reusability. Functions in Python are defined using the def keyword, and they can take parameters and return values.\n",
    "\n",
    "The scope of a variable in Python refers to the region of the code where that variable can be accessed. Variables can have local scope, limited to the function or block where they are defined, or global scope, accessible throughout the entire program. Understanding variable scope is crucial to avoiding naming conflicts and ensuring code behaves as expected.\n",
    "\n",
    "Methods, on the other hand, are functions that are associated with objects in Python. They are called on objects and can modify the object or provide information about it. For example, string methods like upper() and lower() are called on string objects to change the case of the string.\n",
    "\n",
    "In summary, functions are essential in Python for structuring code and promoting reusability, variable scope defines where a variable is accessible, and methods are functions associated with objects, providing a way to interact with and manipulate data. Understanding these concepts is fundamental to writing efficient and maintainable Python code."
   ]
  },
  {
   "cell_type": "markdown",
   "id": "d6d56306",
   "metadata": {
    "deletable": false,
    "editable": false,
    "nbgrader": {
     "cell_type": "markdown",
     "checksum": "a1fbf885ac8c6745e7bf96ebd28969b6",
     "grade": false,
     "grade_id": "cell-de0a0a081f87a48d",
     "locked": true,
     "schema_version": 3,
     "solution": false,
     "task": false
    },
    "tags": []
   },
   "source": [
    "#### Enter Your Reflection Above this Cell ####"
   ]
  }
 ],
 "metadata": {
  "kernelspec": {
   "display_name": "Python 3 (ipykernel)",
   "language": "python",
   "name": "python3"
  },
  "language_info": {
   "codemirror_mode": {
    "name": "ipython",
    "version": 3
   },
   "file_extension": ".py",
   "mimetype": "text/x-python",
   "name": "python",
   "nbconvert_exporter": "python",
   "pygments_lexer": "ipython3",
   "version": "3.11.4"
  }
 },
 "nbformat": 4,
 "nbformat_minor": 5
}
